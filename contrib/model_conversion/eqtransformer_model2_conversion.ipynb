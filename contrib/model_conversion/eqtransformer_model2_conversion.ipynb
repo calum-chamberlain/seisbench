{
 "cells": [
  {
   "cell_type": "markdown",
   "id": "c8bfa451",
   "metadata": {},
   "source": [
    "# Conversion of EQTransformer models to seisbench\n",
    "\n",
    "This notebook is adapted from an original notebook developed by the seisbench team [here](https://github.com/seisbench/seisbench/blob/main/contrib/model_conversion/eqtransformer_conversion.ipynb) and updated for the two models distributed by EQTransformer [here](https://github.com/smousavi05/EQTransformer/tree/master/ModelsAndSampleData). This notebook converts from tensorflow models to py-torch models within the seisbench framework.\n",
    "\n",
    "## Requirements\n",
    "\n",
    "To run this notebook you will need seisbench installed alongside keras and tensorflow. You will also need to download the two models from [here](https://github.com/smousavi05/EQTransformer/tree/master/ModelsAndSampleData).\n",
    "\n",
    "**Last run on 10/06/2022** - note that this notebook will not be kept up to date with changes made to EQTransformer or seisbench."
   ]
  },
  {
   "cell_type": "code",
   "execution_count": 41,
   "id": "f79d1c37",
   "metadata": {},
   "outputs": [
    {
     "name": "stdout",
     "output_type": "stream",
     "text": [
      "The autoreload extension is already loaded. To reload it, use:\n",
      "  %reload_ext autoreload\n"
     ]
    }
   ],
   "source": [
    "%load_ext autoreload\n",
    "%autoreload 2"
   ]
  },
  {
   "cell_type": "code",
   "execution_count": 42,
   "id": "5116ee04",
   "metadata": {},
   "outputs": [],
   "source": [
    "from seisbench.models import EQTransformer\n",
    "from seisbench.models.eqtransformer import CustomLSTM, ActivationLSTMCell\n",
    "import torch\n",
    "import torch.nn as nn\n",
    "import h5py\n",
    "import numpy as np\n",
    "import matplotlib.pyplot as plt\n",
    "import keras.backend as K\n",
    "import tensorflow as tf\n",
    "from keras.models import Sequential\n",
    "\n",
    "import os\n",
    "from tempfile import NamedTemporaryFile\n",
    "import urllib.request"
   ]
  },
  {
   "cell_type": "code",
   "execution_count": 3,
   "id": "25f20e0d",
   "metadata": {},
   "outputs": [],
   "source": [
    "def traverse(root):\n",
    "    if isinstance(root, h5py.Dataset):\n",
    "        return {root.name: root[()]}\n",
    "    else:\n",
    "        out = {}\n",
    "        for key in root.keys():\n",
    "            out.update(traverse(root[key]))\n",
    "        return out\n",
    "\n",
    "def list_weights(path_or_url):\n",
    "    \"\"\"\n",
    "    Lists the weights and their shapes in a hdf5 file\n",
    "    :return: dict[weight_path, shape]\n",
    "    \"\"\"\n",
    "    if os.path.isfile(path_or_url):\n",
    "        path = path_or_url\n",
    "    elif \"://\" in path_or_url[:10]:\n",
    "        # URL - download\n",
    "        path = NamedTemporaryFile().name\n",
    "        urllib.request.urlretrieve(path_or_url, path)\n",
    "    else:\n",
    "        raise Exception(f\"{path_or_url} doesn't look like a url or file location\")\n",
    "    with h5py.File(path, \"r\") as f:\n",
    "        return traverse(f[\"model_weights\"])"
   ]
  },
  {
   "cell_type": "markdown",
   "id": "9449447a",
   "metadata": {},
   "source": [
    "Download and list the weights of the EQTransformer model - **Note:** Change this to the model that is required - any updates to EQTransfromer archtecture is likely to break this."
   ]
  },
  {
   "cell_type": "code",
   "execution_count": 4,
   "id": "f4ab2404",
   "metadata": {},
   "outputs": [],
   "source": [
    "tf_state_dict = list_weights(\n",
    "    \"https://github.com/smousavi05/EQTransformer/\"\n",
    "    \"raw/master/ModelsAndSampleData/\"\n",
    "    \"EqT_original_model.h5\")"
   ]
  },
  {
   "cell_type": "markdown",
   "id": "e97f8753",
   "metadata": {},
   "source": [
    "Load an empty seisbench model - note that the models distributed by EQTransformer have two LSTM blocks"
   ]
  },
  {
   "cell_type": "code",
   "execution_count": 5,
   "id": "7d5264b3",
   "metadata": {},
   "outputs": [],
   "source": [
    "model = EQTransformer(original_compatible=True, lstm_blocks=2)\n",
    "wv = torch.rand(20, 3, 6000, device=model.device)\n",
    "det, p, s = model(wv)"
   ]
  },
  {
   "cell_type": "code",
   "execution_count": 6,
   "id": "e839b970",
   "metadata": {},
   "outputs": [
    {
     "name": "stdout",
     "output_type": "stream",
     "text": [
      "Total number of param vectors: 186\n",
      "Total number of params: 372023\n"
     ]
    }
   ],
   "source": [
    "print(\"Total number of param vectors:\", len(list(model.parameters())))\n",
    "print(\"Total number of params:\", sum(p.numel() for p in model.parameters()))"
   ]
  },
  {
   "cell_type": "code",
   "execution_count": 7,
   "id": "b1fa1737",
   "metadata": {},
   "outputs": [],
   "source": [
    "pt_state_dict = model.state_dict()"
   ]
  },
  {
   "cell_type": "code",
   "execution_count": 8,
   "id": "27c88a1a",
   "metadata": {},
   "outputs": [],
   "source": [
    "def compare_dicts_by_shape(a, b):\n",
    "    \"\"\"\n",
    "    Finds all entries of a that do not have a shape equivalent in b and vice versa\n",
    "    \"\"\"\n",
    "    \n",
    "    a_shapes = set(tuple(x.shape) for x in a.values())\n",
    "    b_shapes = set(tuple(x.shape) for x in b.values())\n",
    "    \n",
    "    print('A but not B')\n",
    "    for key, val in a.items():\n",
    "        if tuple(val.shape) not in b_shapes:\n",
    "            print(key, val.shape)\n",
    "            \n",
    "    print()\n",
    "    print('B but not A')\n",
    "    for key, val in b.items():\n",
    "        if tuple(val.shape) not in a_shapes:\n",
    "            print(key, val.shape)"
   ]
  },
  {
   "cell_type": "code",
   "execution_count": 9,
   "id": "783966b5",
   "metadata": {
    "scrolled": false
   },
   "outputs": [
    {
     "name": "stdout",
     "output_type": "stream",
     "text": [
      "A but not B\n",
      "/model_weights/bidirectional_1/bidirectional_1/backward_lstm_1/recurrent_kernel:0 (16, 64)\n",
      "/model_weights/bidirectional_1/bidirectional_1/forward_lstm_1/recurrent_kernel:0 (16, 64)\n",
      "/model_weights/bidirectional_2/bidirectional_2/backward_lstm_2/kernel:0 (16, 64)\n",
      "/model_weights/bidirectional_2/bidirectional_2/backward_lstm_2/recurrent_kernel:0 (16, 64)\n",
      "/model_weights/bidirectional_2/bidirectional_2/forward_lstm_2/kernel:0 (16, 64)\n",
      "/model_weights/bidirectional_2/bidirectional_2/forward_lstm_2/recurrent_kernel:0 (16, 64)\n",
      "/model_weights/conv1d_1/conv1d_1/kernel:0 (11, 3, 8)\n",
      "/model_weights/conv1d_10/conv1d_10/kernel:0 (3, 64, 64)\n",
      "/model_weights/conv1d_11/conv1d_11/kernel:0 (3, 64, 64)\n",
      "/model_weights/conv1d_12/conv1d_12/kernel:0 (3, 64, 64)\n",
      "/model_weights/conv1d_13/conv1d_13/kernel:0 (3, 64, 64)\n",
      "/model_weights/conv1d_14/conv1d_14/kernel:0 (3, 64, 64)\n",
      "/model_weights/conv1d_15/conv1d_15/kernel:0 (3, 64, 64)\n",
      "/model_weights/conv1d_16/conv1d_16/kernel:0 (2, 64, 64)\n",
      "/model_weights/conv1d_17/conv1d_17/kernel:0 (2, 64, 64)\n",
      "/model_weights/conv1d_18/conv1d_18/kernel:0 (3, 64, 64)\n",
      "/model_weights/conv1d_19/conv1d_19/kernel:0 (3, 64, 64)\n",
      "/model_weights/conv1d_2/conv1d_2/kernel:0 (9, 8, 16)\n",
      "/model_weights/conv1d_20/conv1d_20/kernel:0 (2, 64, 64)\n",
      "/model_weights/conv1d_21/conv1d_21/kernel:0 (2, 64, 64)\n",
      "/model_weights/conv1d_22/conv1d_22/kernel:0 (1, 32, 16)\n",
      "/model_weights/conv1d_23/conv1d_23/kernel:0 (1, 32, 16)\n",
      "/model_weights/conv1d_24/conv1d_24/kernel:0 (3, 16, 64)\n",
      "/model_weights/conv1d_25/conv1d_25/kernel:0 (5, 64, 64)\n",
      "/model_weights/conv1d_26/conv1d_26/kernel:0 (5, 64, 32)\n",
      "/model_weights/conv1d_27/conv1d_27/kernel:0 (7, 32, 32)\n",
      "/model_weights/conv1d_28/conv1d_28/kernel:0 (7, 32, 16)\n",
      "/model_weights/conv1d_29/conv1d_29/kernel:0 (9, 16, 16)\n",
      "/model_weights/conv1d_3/conv1d_3/kernel:0 (7, 16, 16)\n",
      "/model_weights/conv1d_30/conv1d_30/kernel:0 (11, 16, 8)\n",
      "/model_weights/conv1d_31/conv1d_31/kernel:0 (3, 16, 64)\n",
      "/model_weights/conv1d_32/conv1d_32/kernel:0 (5, 64, 64)\n",
      "/model_weights/conv1d_33/conv1d_33/kernel:0 (5, 64, 32)\n",
      "/model_weights/conv1d_34/conv1d_34/kernel:0 (7, 32, 32)\n",
      "/model_weights/conv1d_35/conv1d_35/kernel:0 (7, 32, 16)\n",
      "/model_weights/conv1d_36/conv1d_36/kernel:0 (9, 16, 16)\n",
      "/model_weights/conv1d_37/conv1d_37/kernel:0 (11, 16, 8)\n",
      "/model_weights/conv1d_38/conv1d_38/kernel:0 (3, 16, 64)\n",
      "/model_weights/conv1d_39/conv1d_39/kernel:0 (5, 64, 64)\n",
      "/model_weights/conv1d_4/conv1d_4/kernel:0 (7, 16, 32)\n",
      "/model_weights/conv1d_40/conv1d_40/kernel:0 (5, 64, 32)\n",
      "/model_weights/conv1d_41/conv1d_41/kernel:0 (7, 32, 32)\n",
      "/model_weights/conv1d_42/conv1d_42/kernel:0 (7, 32, 16)\n",
      "/model_weights/conv1d_43/conv1d_43/kernel:0 (9, 16, 16)\n",
      "/model_weights/conv1d_44/conv1d_44/kernel:0 (11, 16, 8)\n",
      "/model_weights/conv1d_5/conv1d_5/kernel:0 (5, 32, 32)\n",
      "/model_weights/conv1d_6/conv1d_6/kernel:0 (5, 32, 64)\n",
      "/model_weights/conv1d_7/conv1d_7/kernel:0 (3, 64, 64)\n",
      "/model_weights/conv1d_8/conv1d_8/kernel:0 (3, 64, 64)\n",
      "/model_weights/conv1d_9/conv1d_9/kernel:0 (3, 64, 64)\n",
      "/model_weights/detector/detector/kernel:0 (11, 8, 1)\n",
      "/model_weights/lstm_3/lstm_3/kernel:0 (16, 64)\n",
      "/model_weights/lstm_3/lstm_3/recurrent_kernel:0 (16, 64)\n",
      "/model_weights/lstm_4/lstm_4/kernel:0 (16, 64)\n",
      "/model_weights/lstm_4/lstm_4/recurrent_kernel:0 (16, 64)\n",
      "/model_weights/picker_P/picker_P/kernel:0 (11, 8, 1)\n",
      "/model_weights/picker_S/picker_S/kernel:0 (11, 8, 1)\n",
      "\n",
      "B but not A\n",
      "encoder.convs.0.weight torch.Size([8, 3, 11])\n",
      "encoder.convs.1.weight torch.Size([16, 8, 9])\n",
      "encoder.convs.2.weight torch.Size([16, 16, 7])\n",
      "encoder.convs.3.weight torch.Size([32, 16, 7])\n",
      "encoder.convs.4.weight torch.Size([32, 32, 5])\n",
      "encoder.convs.5.weight torch.Size([64, 32, 5])\n",
      "encoder.convs.6.weight torch.Size([64, 64, 3])\n",
      "res_cnn_stack.members.0.norm1.num_batches_tracked torch.Size([])\n",
      "res_cnn_stack.members.0.conv1.weight torch.Size([64, 64, 3])\n",
      "res_cnn_stack.members.0.norm2.num_batches_tracked torch.Size([])\n",
      "res_cnn_stack.members.0.conv2.weight torch.Size([64, 64, 3])\n",
      "res_cnn_stack.members.1.norm1.num_batches_tracked torch.Size([])\n",
      "res_cnn_stack.members.1.conv1.weight torch.Size([64, 64, 3])\n",
      "res_cnn_stack.members.1.norm2.num_batches_tracked torch.Size([])\n",
      "res_cnn_stack.members.1.conv2.weight torch.Size([64, 64, 3])\n",
      "res_cnn_stack.members.2.norm1.num_batches_tracked torch.Size([])\n",
      "res_cnn_stack.members.2.conv1.weight torch.Size([64, 64, 3])\n",
      "res_cnn_stack.members.2.norm2.num_batches_tracked torch.Size([])\n",
      "res_cnn_stack.members.2.conv2.weight torch.Size([64, 64, 3])\n",
      "res_cnn_stack.members.3.norm1.num_batches_tracked torch.Size([])\n",
      "res_cnn_stack.members.3.conv1.weight torch.Size([64, 64, 3])\n",
      "res_cnn_stack.members.3.norm2.num_batches_tracked torch.Size([])\n",
      "res_cnn_stack.members.3.conv2.weight torch.Size([64, 64, 3])\n",
      "res_cnn_stack.members.4.norm1.num_batches_tracked torch.Size([])\n",
      "res_cnn_stack.members.4.conv1.weight torch.Size([64, 64, 2])\n",
      "res_cnn_stack.members.4.norm2.num_batches_tracked torch.Size([])\n",
      "res_cnn_stack.members.4.conv2.weight torch.Size([64, 64, 2])\n",
      "res_cnn_stack.members.5.norm1.num_batches_tracked torch.Size([])\n",
      "res_cnn_stack.members.5.conv1.weight torch.Size([64, 64, 3])\n",
      "res_cnn_stack.members.5.norm2.num_batches_tracked torch.Size([])\n",
      "res_cnn_stack.members.5.conv2.weight torch.Size([64, 64, 3])\n",
      "res_cnn_stack.members.6.norm1.num_batches_tracked torch.Size([])\n",
      "res_cnn_stack.members.6.conv1.weight torch.Size([64, 64, 2])\n",
      "res_cnn_stack.members.6.norm2.num_batches_tracked torch.Size([])\n",
      "res_cnn_stack.members.6.conv2.weight torch.Size([64, 64, 2])\n",
      "bi_lstm_stack.members.0.lstm.cell_f.weight_hh torch.Size([64, 16])\n",
      "bi_lstm_stack.members.0.lstm.cell_b.weight_hh torch.Size([64, 16])\n",
      "bi_lstm_stack.members.0.conv.weight torch.Size([16, 32, 1])\n",
      "bi_lstm_stack.members.0.norm.num_batches_tracked torch.Size([])\n",
      "bi_lstm_stack.members.1.lstm.cell_f.weight_ih torch.Size([64, 16])\n",
      "bi_lstm_stack.members.1.lstm.cell_f.weight_hh torch.Size([64, 16])\n",
      "bi_lstm_stack.members.1.lstm.cell_b.weight_ih torch.Size([64, 16])\n",
      "bi_lstm_stack.members.1.lstm.cell_b.weight_hh torch.Size([64, 16])\n",
      "bi_lstm_stack.members.1.conv.weight torch.Size([16, 32, 1])\n",
      "bi_lstm_stack.members.1.norm.num_batches_tracked torch.Size([])\n",
      "transformer_d0.norm1.gamma torch.Size([16, 1])\n",
      "transformer_d0.norm1.beta torch.Size([16, 1])\n",
      "transformer_d0.norm2.gamma torch.Size([16, 1])\n",
      "transformer_d0.norm2.beta torch.Size([16, 1])\n",
      "transformer_d.norm1.gamma torch.Size([16, 1])\n",
      "transformer_d.norm1.beta torch.Size([16, 1])\n",
      "transformer_d.norm2.gamma torch.Size([16, 1])\n",
      "transformer_d.norm2.beta torch.Size([16, 1])\n",
      "decoder_d.convs.0.weight torch.Size([64, 16, 3])\n",
      "decoder_d.convs.1.weight torch.Size([64, 64, 5])\n",
      "decoder_d.convs.2.weight torch.Size([32, 64, 5])\n",
      "decoder_d.convs.3.weight torch.Size([32, 32, 7])\n",
      "decoder_d.convs.4.weight torch.Size([16, 32, 7])\n",
      "decoder_d.convs.5.weight torch.Size([16, 16, 9])\n",
      "decoder_d.convs.6.weight torch.Size([8, 16, 11])\n",
      "conv_d.weight torch.Size([1, 8, 11])\n",
      "pick_lstms.0.cell_f.weight_ih torch.Size([64, 16])\n",
      "pick_lstms.0.cell_f.weight_hh torch.Size([64, 16])\n",
      "pick_lstms.1.cell_f.weight_ih torch.Size([64, 16])\n",
      "pick_lstms.1.cell_f.weight_hh torch.Size([64, 16])\n",
      "pick_decoders.0.convs.0.weight torch.Size([64, 16, 3])\n",
      "pick_decoders.0.convs.1.weight torch.Size([64, 64, 5])\n",
      "pick_decoders.0.convs.2.weight torch.Size([32, 64, 5])\n",
      "pick_decoders.0.convs.3.weight torch.Size([32, 32, 7])\n",
      "pick_decoders.0.convs.4.weight torch.Size([16, 32, 7])\n",
      "pick_decoders.0.convs.5.weight torch.Size([16, 16, 9])\n",
      "pick_decoders.0.convs.6.weight torch.Size([8, 16, 11])\n",
      "pick_decoders.1.convs.0.weight torch.Size([64, 16, 3])\n",
      "pick_decoders.1.convs.1.weight torch.Size([64, 64, 5])\n",
      "pick_decoders.1.convs.2.weight torch.Size([32, 64, 5])\n",
      "pick_decoders.1.convs.3.weight torch.Size([32, 32, 7])\n",
      "pick_decoders.1.convs.4.weight torch.Size([16, 32, 7])\n",
      "pick_decoders.1.convs.5.weight torch.Size([16, 16, 9])\n",
      "pick_decoders.1.convs.6.weight torch.Size([8, 16, 11])\n",
      "pick_convs.0.weight torch.Size([1, 8, 11])\n",
      "pick_convs.1.weight torch.Size([1, 8, 11])\n"
     ]
    }
   ],
   "source": [
    "compare_dicts_by_shape(tf_state_dict, pt_state_dict)"
   ]
  },
  {
   "cell_type": "code",
   "execution_count": 11,
   "id": "c24f7fac",
   "metadata": {},
   "outputs": [],
   "source": [
    "lstm = model.bi_lstm_stack.members[0].lstm"
   ]
  },
  {
   "cell_type": "code",
   "execution_count": 12,
   "id": "68cd4ebb",
   "metadata": {},
   "outputs": [
    {
     "name": "stdout",
     "output_type": "stream",
     "text": [
      "cell_f.weight_ih (64, 64)\n",
      "cell_f.weight_hh (64, 16)\n",
      "cell_f.bias_ih (64,)\n",
      "cell_f.bias_hh (64,)\n",
      "cell_b.weight_ih (64, 64)\n",
      "cell_b.weight_hh (64, 16)\n",
      "cell_b.bias_ih (64,)\n",
      "cell_b.bias_hh (64,)\n"
     ]
    }
   ],
   "source": [
    "lstm_dict = lstm.state_dict()\n",
    "for key, val in lstm_dict.items():\n",
    "    print(key, tuple(val.shape))"
   ]
  },
  {
   "cell_type": "code",
   "execution_count": 13,
   "id": "470633fa",
   "metadata": {},
   "outputs": [],
   "source": [
    "new_state_dict = {}"
   ]
  },
  {
   "cell_type": "code",
   "execution_count": 14,
   "id": "48ee9d32",
   "metadata": {},
   "outputs": [],
   "source": [
    "# Copy encoder\n",
    "\n",
    "for key in model.encoder.state_dict():\n",
    "    _, conv_id, t = key.split('.')\n",
    "    \n",
    "    conv_id = int(conv_id) + 1\n",
    "    \n",
    "    source = f\"/model_weights/conv1d_{conv_id}/conv1d_{conv_id}/\"\n",
    "    if t == \"weight\":\n",
    "        data = np.transpose(tf_state_dict[source + \"kernel:0\"], (2, 1, 0))\n",
    "        # For input layer, resort channels from ENZ to ZNE\n",
    "        if conv_id == 1:\n",
    "            data = data[:, [2, 1, 0], :]\n",
    "            \n",
    "    elif t == \"bias\":\n",
    "        data = tf_state_dict[source + \"bias:0\"]\n",
    "        \n",
    "    new_state_dict[\"encoder.\" + key] = torch.tensor(data)"
   ]
  },
  {
   "cell_type": "code",
   "execution_count": 15,
   "id": "131f65b4",
   "metadata": {},
   "outputs": [
    {
     "name": "stdout",
     "output_type": "stream",
     "text": [
      "Copying /model_weights/batch_normalization_1/batch_normalization_1/gamma:0 to members.0.norm1.weight\n",
      "Copying /model_weights/batch_normalization_1/batch_normalization_1/beta:0 to members.0.norm1.bias\n",
      "Copying /model_weights/batch_normalization_1/batch_normalization_1/moving_mean:0 to members.0.norm1.running_mean\n",
      "Copying /model_weights/batch_normalization_1/batch_normalization_1/moving_variance:0 to members.0.norm1.running_var\n",
      "Copying /model_weights/conv1d_8/conv1d_8/ to members.0.conv1.weight\n",
      "Copying /model_weights/conv1d_8/conv1d_8/ to members.0.conv1.bias\n",
      "Copying /model_weights/batch_normalization_2/batch_normalization_2/gamma:0 to members.0.norm2.weight\n",
      "Copying /model_weights/batch_normalization_2/batch_normalization_2/beta:0 to members.0.norm2.bias\n",
      "Copying /model_weights/batch_normalization_2/batch_normalization_2/moving_mean:0 to members.0.norm2.running_mean\n",
      "Copying /model_weights/batch_normalization_2/batch_normalization_2/moving_variance:0 to members.0.norm2.running_var\n",
      "Copying /model_weights/conv1d_9/conv1d_9/ to members.0.conv2.weight\n",
      "Copying /model_weights/conv1d_9/conv1d_9/ to members.0.conv2.bias\n",
      "Copying /model_weights/batch_normalization_3/batch_normalization_3/gamma:0 to members.1.norm1.weight\n",
      "Copying /model_weights/batch_normalization_3/batch_normalization_3/beta:0 to members.1.norm1.bias\n",
      "Copying /model_weights/batch_normalization_3/batch_normalization_3/moving_mean:0 to members.1.norm1.running_mean\n",
      "Copying /model_weights/batch_normalization_3/batch_normalization_3/moving_variance:0 to members.1.norm1.running_var\n",
      "Copying /model_weights/conv1d_10/conv1d_10/ to members.1.conv1.weight\n",
      "Copying /model_weights/conv1d_10/conv1d_10/ to members.1.conv1.bias\n",
      "Copying /model_weights/batch_normalization_4/batch_normalization_4/gamma:0 to members.1.norm2.weight\n",
      "Copying /model_weights/batch_normalization_4/batch_normalization_4/beta:0 to members.1.norm2.bias\n",
      "Copying /model_weights/batch_normalization_4/batch_normalization_4/moving_mean:0 to members.1.norm2.running_mean\n",
      "Copying /model_weights/batch_normalization_4/batch_normalization_4/moving_variance:0 to members.1.norm2.running_var\n",
      "Copying /model_weights/conv1d_11/conv1d_11/ to members.1.conv2.weight\n",
      "Copying /model_weights/conv1d_11/conv1d_11/ to members.1.conv2.bias\n",
      "Copying /model_weights/batch_normalization_5/batch_normalization_5/gamma:0 to members.2.norm1.weight\n",
      "Copying /model_weights/batch_normalization_5/batch_normalization_5/beta:0 to members.2.norm1.bias\n",
      "Copying /model_weights/batch_normalization_5/batch_normalization_5/moving_mean:0 to members.2.norm1.running_mean\n",
      "Copying /model_weights/batch_normalization_5/batch_normalization_5/moving_variance:0 to members.2.norm1.running_var\n",
      "Copying /model_weights/conv1d_12/conv1d_12/ to members.2.conv1.weight\n",
      "Copying /model_weights/conv1d_12/conv1d_12/ to members.2.conv1.bias\n",
      "Copying /model_weights/batch_normalization_6/batch_normalization_6/gamma:0 to members.2.norm2.weight\n",
      "Copying /model_weights/batch_normalization_6/batch_normalization_6/beta:0 to members.2.norm2.bias\n",
      "Copying /model_weights/batch_normalization_6/batch_normalization_6/moving_mean:0 to members.2.norm2.running_mean\n",
      "Copying /model_weights/batch_normalization_6/batch_normalization_6/moving_variance:0 to members.2.norm2.running_var\n",
      "Copying /model_weights/conv1d_13/conv1d_13/ to members.2.conv2.weight\n",
      "Copying /model_weights/conv1d_13/conv1d_13/ to members.2.conv2.bias\n",
      "Copying /model_weights/batch_normalization_7/batch_normalization_7/gamma:0 to members.3.norm1.weight\n",
      "Copying /model_weights/batch_normalization_7/batch_normalization_7/beta:0 to members.3.norm1.bias\n",
      "Copying /model_weights/batch_normalization_7/batch_normalization_7/moving_mean:0 to members.3.norm1.running_mean\n",
      "Copying /model_weights/batch_normalization_7/batch_normalization_7/moving_variance:0 to members.3.norm1.running_var\n",
      "Copying /model_weights/conv1d_14/conv1d_14/ to members.3.conv1.weight\n",
      "Copying /model_weights/conv1d_14/conv1d_14/ to members.3.conv1.bias\n",
      "Copying /model_weights/batch_normalization_8/batch_normalization_8/gamma:0 to members.3.norm2.weight\n",
      "Copying /model_weights/batch_normalization_8/batch_normalization_8/beta:0 to members.3.norm2.bias\n",
      "Copying /model_weights/batch_normalization_8/batch_normalization_8/moving_mean:0 to members.3.norm2.running_mean\n",
      "Copying /model_weights/batch_normalization_8/batch_normalization_8/moving_variance:0 to members.3.norm2.running_var\n",
      "Copying /model_weights/conv1d_15/conv1d_15/ to members.3.conv2.weight\n",
      "Copying /model_weights/conv1d_15/conv1d_15/ to members.3.conv2.bias\n",
      "Copying /model_weights/batch_normalization_9/batch_normalization_9/gamma:0 to members.4.norm1.weight\n",
      "Copying /model_weights/batch_normalization_9/batch_normalization_9/beta:0 to members.4.norm1.bias\n",
      "Copying /model_weights/batch_normalization_9/batch_normalization_9/moving_mean:0 to members.4.norm1.running_mean\n",
      "Copying /model_weights/batch_normalization_9/batch_normalization_9/moving_variance:0 to members.4.norm1.running_var\n",
      "Copying /model_weights/conv1d_16/conv1d_16/ to members.4.conv1.weight\n",
      "Copying /model_weights/conv1d_16/conv1d_16/ to members.4.conv1.bias\n",
      "Copying /model_weights/batch_normalization_10/batch_normalization_10/gamma:0 to members.4.norm2.weight\n",
      "Copying /model_weights/batch_normalization_10/batch_normalization_10/beta:0 to members.4.norm2.bias\n",
      "Copying /model_weights/batch_normalization_10/batch_normalization_10/moving_mean:0 to members.4.norm2.running_mean\n",
      "Copying /model_weights/batch_normalization_10/batch_normalization_10/moving_variance:0 to members.4.norm2.running_var\n",
      "Copying /model_weights/conv1d_17/conv1d_17/ to members.4.conv2.weight\n",
      "Copying /model_weights/conv1d_17/conv1d_17/ to members.4.conv2.bias\n",
      "Copying /model_weights/batch_normalization_11/batch_normalization_11/gamma:0 to members.5.norm1.weight\n",
      "Copying /model_weights/batch_normalization_11/batch_normalization_11/beta:0 to members.5.norm1.bias\n",
      "Copying /model_weights/batch_normalization_11/batch_normalization_11/moving_mean:0 to members.5.norm1.running_mean\n",
      "Copying /model_weights/batch_normalization_11/batch_normalization_11/moving_variance:0 to members.5.norm1.running_var\n",
      "Copying /model_weights/conv1d_18/conv1d_18/ to members.5.conv1.weight\n",
      "Copying /model_weights/conv1d_18/conv1d_18/ to members.5.conv1.bias\n",
      "Copying /model_weights/batch_normalization_12/batch_normalization_12/gamma:0 to members.5.norm2.weight\n",
      "Copying /model_weights/batch_normalization_12/batch_normalization_12/beta:0 to members.5.norm2.bias\n",
      "Copying /model_weights/batch_normalization_12/batch_normalization_12/moving_mean:0 to members.5.norm2.running_mean\n",
      "Copying /model_weights/batch_normalization_12/batch_normalization_12/moving_variance:0 to members.5.norm2.running_var\n",
      "Copying /model_weights/conv1d_19/conv1d_19/ to members.5.conv2.weight\n",
      "Copying /model_weights/conv1d_19/conv1d_19/ to members.5.conv2.bias\n",
      "Copying /model_weights/batch_normalization_13/batch_normalization_13/gamma:0 to members.6.norm1.weight\n",
      "Copying /model_weights/batch_normalization_13/batch_normalization_13/beta:0 to members.6.norm1.bias\n",
      "Copying /model_weights/batch_normalization_13/batch_normalization_13/moving_mean:0 to members.6.norm1.running_mean\n",
      "Copying /model_weights/batch_normalization_13/batch_normalization_13/moving_variance:0 to members.6.norm1.running_var\n",
      "Copying /model_weights/conv1d_20/conv1d_20/ to members.6.conv1.weight\n",
      "Copying /model_weights/conv1d_20/conv1d_20/ to members.6.conv1.bias\n",
      "Copying /model_weights/batch_normalization_14/batch_normalization_14/gamma:0 to members.6.norm2.weight\n",
      "Copying /model_weights/batch_normalization_14/batch_normalization_14/beta:0 to members.6.norm2.bias\n",
      "Copying /model_weights/batch_normalization_14/batch_normalization_14/moving_mean:0 to members.6.norm2.running_mean\n",
      "Copying /model_weights/batch_normalization_14/batch_normalization_14/moving_variance:0 to members.6.norm2.running_var\n",
      "Copying /model_weights/conv1d_21/conv1d_21/ to members.6.conv2.weight\n",
      "Copying /model_weights/conv1d_21/conv1d_21/ to members.6.conv2.bias\n"
     ]
    },
    {
     "name": "stderr",
     "output_type": "stream",
     "text": [
      "/tmp/ipykernel_331937/1134306714.py:30: UserWarning: To copy construct from a tensor, it is recommended to use sourceTensor.clone().detach() or sourceTensor.clone().detach().requires_grad_(True), rather than torch.tensor(sourceTensor).\n",
      "  new_state_dict[out_key] = torch.tensor(data)\n"
     ]
    }
   ],
   "source": [
    "# Copy res CNN\n",
    "\n",
    "norm_dict = {'weight': 'gamma',\n",
    "             'bias': 'beta',\n",
    "             'running_mean': 'moving_mean',\n",
    "             'running_var': 'moving_variance'}\n",
    "\n",
    "for key in model.res_cnn_stack.state_dict():\n",
    "    _, member_id, layer, t = key.split('.')\n",
    "    \n",
    "    if layer[:4] == \"conv\":\n",
    "        conv_id = 7 + 2 * int(member_id) + int(layer[-1:])\n",
    "        source = f\"/model_weights/conv1d_{conv_id}/conv1d_{conv_id}/\"\n",
    "        print(f\"Copying {source} to {key}\")\n",
    "        if t == \"weight\":\n",
    "            data = np.transpose(tf_state_dict[source + \"kernel:0\"], (2, 1, 0))\n",
    "        elif t == \"bias\":\n",
    "            data = tf_state_dict[source + \"bias:0\"]\n",
    "        \n",
    "    elif layer[:4] == \"norm\":\n",
    "        norm_id = 2 * int(member_id) + int(layer[-1:])\n",
    "        if t == 'num_batches_tracked':\n",
    "            data = model.res_cnn_stack.state_dict()[key]\n",
    "        else:\n",
    "            source = f\"/model_weights/batch_normalization_{norm_id}/batch_normalization_{norm_id}/{norm_dict[t]}:0\"\n",
    "            print(f\"Copying {source} to {key}\")\n",
    "            data = tf_state_dict[source]\n",
    "        \n",
    "    out_key = \"res_cnn_stack.\" + key\n",
    "    new_state_dict[out_key] = torch.tensor(data)\n",
    "    # print(data.shape, model.res_cnn_stack.state_dict()[key].shape)"
   ]
  },
  {
   "cell_type": "code",
   "execution_count": 16,
   "id": "28619417",
   "metadata": {},
   "outputs": [
    {
     "name": "stdout",
     "output_type": "stream",
     "text": [
      "Copying /model_weights/bidirectional_1/bidirectional_1/forward_lstm_1/ to members.0.lstm.cell_f.weight_ih\n",
      "Copying /model_weights/bidirectional_1/bidirectional_1/forward_lstm_1/ to members.0.lstm.cell_f.weight_hh\n",
      "Copying /model_weights/bidirectional_1/bidirectional_1/forward_lstm_1/ to members.0.lstm.cell_f.bias_ih\n",
      "Copying /model_weights/bidirectional_1/bidirectional_1/forward_lstm_1/ to members.0.lstm.cell_f.bias_hh\n",
      "Copying /model_weights/bidirectional_1/bidirectional_1/backward_lstm_1/ to members.0.lstm.cell_b.weight_ih\n",
      "Copying /model_weights/bidirectional_1/bidirectional_1/backward_lstm_1/ to members.0.lstm.cell_b.weight_hh\n",
      "Copying /model_weights/bidirectional_1/bidirectional_1/backward_lstm_1/ to members.0.lstm.cell_b.bias_ih\n",
      "Copying /model_weights/bidirectional_1/bidirectional_1/backward_lstm_1/ to members.0.lstm.cell_b.bias_hh\n",
      "Copying /model_weights/conv1d_22/conv1d_22/ to members.0.conv.weight\n",
      "Copying /model_weights/conv1d_22/conv1d_22/ to members.0.conv.bias\n",
      "Copying /model_weights/batch_normalization_15/batch_normalization_15/gamma:0 to members.0.norm.weight\n",
      "Copying /model_weights/batch_normalization_15/batch_normalization_15/beta:0 to members.0.norm.bias\n",
      "Copying /model_weights/batch_normalization_15/batch_normalization_15/moving_mean:0 to members.0.norm.running_mean\n",
      "Copying /model_weights/batch_normalization_15/batch_normalization_15/moving_variance:0 to members.0.norm.running_var\n",
      "Copying /model_weights/batch_normalization_15/batch_normalization_15/moving_variance:0 to members.0.norm.num_batches_tracked\n",
      "Copying /model_weights/bidirectional_2/bidirectional_2/forward_lstm_2/ to members.1.lstm.cell_f.weight_ih\n",
      "Copying /model_weights/bidirectional_2/bidirectional_2/forward_lstm_2/ to members.1.lstm.cell_f.weight_hh\n",
      "Copying /model_weights/bidirectional_2/bidirectional_2/forward_lstm_2/ to members.1.lstm.cell_f.bias_ih\n",
      "Copying /model_weights/bidirectional_2/bidirectional_2/forward_lstm_2/ to members.1.lstm.cell_f.bias_hh\n",
      "Copying /model_weights/bidirectional_2/bidirectional_2/backward_lstm_2/ to members.1.lstm.cell_b.weight_ih\n",
      "Copying /model_weights/bidirectional_2/bidirectional_2/backward_lstm_2/ to members.1.lstm.cell_b.weight_hh\n",
      "Copying /model_weights/bidirectional_2/bidirectional_2/backward_lstm_2/ to members.1.lstm.cell_b.bias_ih\n",
      "Copying /model_weights/bidirectional_2/bidirectional_2/backward_lstm_2/ to members.1.lstm.cell_b.bias_hh\n",
      "Copying /model_weights/conv1d_23/conv1d_23/ to members.1.conv.weight\n",
      "Copying /model_weights/conv1d_23/conv1d_23/ to members.1.conv.bias\n",
      "Copying /model_weights/batch_normalization_16/batch_normalization_16/gamma:0 to members.1.norm.weight\n",
      "Copying /model_weights/batch_normalization_16/batch_normalization_16/beta:0 to members.1.norm.bias\n",
      "Copying /model_weights/batch_normalization_16/batch_normalization_16/moving_mean:0 to members.1.norm.running_mean\n",
      "Copying /model_weights/batch_normalization_16/batch_normalization_16/moving_variance:0 to members.1.norm.running_var\n",
      "Copying /model_weights/batch_normalization_16/batch_normalization_16/moving_variance:0 to members.1.norm.num_batches_tracked\n"
     ]
    },
    {
     "name": "stderr",
     "output_type": "stream",
     "text": [
      "/tmp/ipykernel_331937/780891579.py:49: UserWarning: To copy construct from a tensor, it is recommended to use sourceTensor.clone().detach() or sourceTensor.clone().detach().requires_grad_(True), rather than torch.tensor(sourceTensor).\n",
      "  new_state_dict[out_key] = torch.tensor(data)\n"
     ]
    }
   ],
   "source": [
    "# Copy BiLSTMStack\n",
    "\n",
    "for key in model.bi_lstm_stack.state_dict():\n",
    "    parts = key.split('.')\n",
    "    if len(parts) == 4:\n",
    "        _, member_id, layer, t = key.split('.')\n",
    "    else:\n",
    "        _, member_id, layer, cell, t = key.split('.')\n",
    "    \n",
    "    if layer == \"conv\":\n",
    "        conv_id = 22 + int(member_id)\n",
    "        source = f\"/model_weights/conv1d_{conv_id}/conv1d_{conv_id}/\"\n",
    "        if t == \"weight\":\n",
    "            data = np.transpose(tf_state_dict[source + \"kernel:0\"], (2, 1, 0))\n",
    "        elif t == \"bias\":\n",
    "            data = tf_state_dict[source + \"bias:0\"]\n",
    "            \n",
    "    elif layer == \"norm\":\n",
    "        norm_id = 15 + int(member_id)\n",
    "        if t == 'num_batches_tracked':\n",
    "            data = model.bi_lstm_stack.state_dict()[key]\n",
    "        else:\n",
    "            source = f\"/model_weights/batch_normalization_{norm_id}/batch_normalization_{norm_id}/{norm_dict[t]}:0\"\n",
    "            data = tf_state_dict[source]\n",
    "            \n",
    "    elif layer == \"lstm\":\n",
    "        if cell[-1] == \"f\":\n",
    "            direction = \"forward\"\n",
    "        else:\n",
    "            direction = \"backward\"\n",
    "        lstm_id = int(member_id) + 1\n",
    "        \n",
    "        source = f\"/model_weights/bidirectional_{lstm_id}/bidirectional_{lstm_id}/{direction}_lstm_{lstm_id}/\"\n",
    "        \n",
    "        # Split bias 0.5/0.5\n",
    "        # https://stackoverflow.com/questions/55229636/import-lstm-from-tensorflow-to-pytorch-by-hand\n",
    "        if t.startswith(\"weight_ih\"):\n",
    "            data = tf_state_dict[source + \"kernel:0\"].T\n",
    "        elif t.startswith(\"weight_hh\"):\n",
    "            data = tf_state_dict[source + \"recurrent_kernel:0\"].T\n",
    "        elif t.startswith(\"bias_hh\"):\n",
    "            data = 0.5 * tf_state_dict[source + \"bias:0\"]\n",
    "        else:\n",
    "            # bias_ih\n",
    "            data = 0.5 * tf_state_dict[source + \"bias:0\"]\n",
    "            \n",
    "    print(f\"Copying {source} to {key}\")\n",
    "    out_key = \"bi_lstm_stack.\" + key\n",
    "    new_state_dict[out_key] = torch.tensor(data)"
   ]
  },
  {
   "cell_type": "code",
   "execution_count": 17,
   "id": "b18b0b12",
   "metadata": {},
   "outputs": [
    {
     "name": "stdout",
     "output_type": "stream",
     "text": [
      "Copying /model_weights/attentionD0/attentionD0/attentionD0_Add_Wx:0 to attention.Wx\n",
      "Copying /model_weights/attentionD0/attentionD0/attentionD0_Add_Wt:0 to attention.Wt\n",
      "Copying /model_weights/attentionD0/attentionD0/attentionD0_Add_bh:0 to attention.bh\n",
      "Copying /model_weights/attentionD0/attentionD0/attentionD0_Add_Wa:0 to attention.Wa\n",
      "Copying /model_weights/attentionD0/attentionD0/attentionD0_Add_ba:0 to attention.ba\n",
      "Copying /model_weights/layer_normalization_1/layer_normalization_1/gamma:0 to norm1.gamma\n",
      "Copying /model_weights/layer_normalization_1/layer_normalization_1/beta:0 to norm1.beta\n",
      "Copying /model_weights/feed_forward_1/feed_forward_1/feed_forward_1_W1:0 to ff.lin1.weight\n",
      "Copying /model_weights/feed_forward_1/feed_forward_1/feed_forward_1_b1:0 to ff.lin1.bias\n",
      "Copying /model_weights/feed_forward_1/feed_forward_1/feed_forward_1_W2:0 to ff.lin2.weight\n",
      "Copying /model_weights/feed_forward_1/feed_forward_1/feed_forward_1_b2:0 to ff.lin2.bias\n",
      "Copying /model_weights/layer_normalization_2/layer_normalization_2/gamma:0 to norm2.gamma\n",
      "Copying /model_weights/layer_normalization_2/layer_normalization_2/beta:0 to norm2.beta\n"
     ]
    }
   ],
   "source": [
    "# Copy transformer_d0\n",
    "\n",
    "ff_dict = {\"weight\": \"W\", \"bias\": \"b\"}\n",
    "\n",
    "for key in model.transformer_d0.state_dict():\n",
    "    if key[:2] == \"ff\":\n",
    "        _, layer, t = key.split('.')\n",
    "        lin_id = int(layer[-1:])\n",
    "        source = f\"/model_weights/feed_forward_1/feed_forward_1/feed_forward_1_{ff_dict[t]}{lin_id}:0\"\n",
    "        data = tf_state_dict[source]\n",
    "        if t == \"weight\":\n",
    "            data = data.T\n",
    "        \n",
    "    else:\n",
    "        layer, t = key.split('.')\n",
    "        \n",
    "        if layer == \"attention\":\n",
    "            source = f\"/model_weights/attentionD0/attentionD0/attentionD0_Add_{t}:0\"\n",
    "            data = tf_state_dict[source]\n",
    "        elif layer.startswith(\"norm\"):\n",
    "            norm_id = int(layer[-1:])\n",
    "            source = f\"/model_weights/layer_normalization_{norm_id}/layer_normalization_{norm_id}/{t}:0\"\n",
    "            data = tf_state_dict[source]\n",
    "            data = np.expand_dims(data, axis=-1)\n",
    "    print(f\"Copying {source} to {key}\")    \n",
    "    new_state_dict[\"transformer_d0.\" + key] = torch.tensor(data)"
   ]
  },
  {
   "cell_type": "code",
   "execution_count": 18,
   "id": "3018297c",
   "metadata": {},
   "outputs": [
    {
     "name": "stdout",
     "output_type": "stream",
     "text": [
      "Copying /model_weights/attentionD/attentionD/attentionD_Add_Wx:0 to attention.Wx\n",
      "Copying /model_weights/attentionD/attentionD/attentionD_Add_Wt:0 to attention.Wt\n",
      "Copying /model_weights/attentionD/attentionD/attentionD_Add_bh:0 to attention.bh\n",
      "Copying /model_weights/attentionD/attentionD/attentionD_Add_Wa:0 to attention.Wa\n",
      "Copying /model_weights/attentionD/attentionD/attentionD_Add_ba:0 to attention.ba\n",
      "Copying /model_weights/layer_normalization_3/layer_normalization_3/gamma:0 to norm1.gamma\n",
      "Copying /model_weights/layer_normalization_3/layer_normalization_3/beta:0 to norm1.beta\n",
      "Copying /model_weights/feed_forward_2/feed_forward_2/feed_forward_2_W1:0 to ff.lin1.weight\n",
      "Copying /model_weights/feed_forward_2/feed_forward_2/feed_forward_2_b1:0 to ff.lin1.bias\n",
      "Copying /model_weights/feed_forward_2/feed_forward_2/feed_forward_2_W2:0 to ff.lin2.weight\n",
      "Copying /model_weights/feed_forward_2/feed_forward_2/feed_forward_2_b2:0 to ff.lin2.bias\n",
      "Copying /model_weights/layer_normalization_4/layer_normalization_4/gamma:0 to norm2.gamma\n",
      "Copying /model_weights/layer_normalization_4/layer_normalization_4/beta:0 to norm2.beta\n"
     ]
    }
   ],
   "source": [
    "# Copy transformer_d\n",
    "\n",
    "ff_dict = {\"weight\": \"W\", \"bias\": \"b\"}\n",
    "\n",
    "for key in model.transformer_d.state_dict():\n",
    "    if key[:2] == \"ff\":\n",
    "        _, layer, t = key.split('.')\n",
    "        lin_id = int(layer[-1:])\n",
    "        source = f\"/model_weights/feed_forward_2/feed_forward_2/feed_forward_2_{ff_dict[t]}{lin_id}:0\"\n",
    "        data = tf_state_dict[source]\n",
    "        if t == \"weight\":\n",
    "            data = data.T\n",
    "        \n",
    "    else:\n",
    "        layer, t = key.split('.')\n",
    "        \n",
    "        if layer == \"attention\":\n",
    "            source = f\"/model_weights/attentionD/attentionD/attentionD_Add_{t}:0\"\n",
    "            data = tf_state_dict[source]\n",
    "        elif layer.startswith(\"norm\"):\n",
    "            norm_id = int(layer[-1:]) + 2\n",
    "            source = f\"/model_weights/layer_normalization_{norm_id}/layer_normalization_{norm_id}/{t}:0\"\n",
    "            data = tf_state_dict[source]\n",
    "            data = np.expand_dims(data, axis=-1)\n",
    "    print(f\"Copying {source} to {key}\")      \n",
    "    new_state_dict[\"transformer_d.\" + key] = torch.tensor(data)"
   ]
  },
  {
   "cell_type": "code",
   "execution_count": 19,
   "id": "93516d57",
   "metadata": {},
   "outputs": [
    {
     "name": "stdout",
     "output_type": "stream",
     "text": [
      "Copying /model_weights/conv1d_24/conv1d_24/ to convs.0.weight\n",
      "Copying /model_weights/conv1d_24/conv1d_24/ to convs.0.bias\n",
      "Copying /model_weights/conv1d_25/conv1d_25/ to convs.1.weight\n",
      "Copying /model_weights/conv1d_25/conv1d_25/ to convs.1.bias\n",
      "Copying /model_weights/conv1d_26/conv1d_26/ to convs.2.weight\n",
      "Copying /model_weights/conv1d_26/conv1d_26/ to convs.2.bias\n",
      "Copying /model_weights/conv1d_27/conv1d_27/ to convs.3.weight\n",
      "Copying /model_weights/conv1d_27/conv1d_27/ to convs.3.bias\n",
      "Copying /model_weights/conv1d_28/conv1d_28/ to convs.4.weight\n",
      "Copying /model_weights/conv1d_28/conv1d_28/ to convs.4.bias\n",
      "Copying /model_weights/conv1d_29/conv1d_29/ to convs.5.weight\n",
      "Copying /model_weights/conv1d_29/conv1d_29/ to convs.5.bias\n",
      "Copying /model_weights/conv1d_30/conv1d_30/ to convs.6.weight\n",
      "Copying /model_weights/conv1d_30/conv1d_30/ to convs.6.bias\n"
     ]
    }
   ],
   "source": [
    "# Copy decoder_d\n",
    "\n",
    "for key in model.decoder_d.state_dict():\n",
    "    _, conv_id, t = key.split('.')\n",
    "    \n",
    "    conv_id = int(conv_id) + 24\n",
    "    \n",
    "    source = f\"/model_weights/conv1d_{conv_id}/conv1d_{conv_id}/\"\n",
    "    if t == \"weight\":\n",
    "        data = np.transpose(tf_state_dict[source + \"kernel:0\"], (2, 1, 0))\n",
    "    elif t == \"bias\":\n",
    "        data = tf_state_dict[source + \"bias:0\"]\n",
    "    print(f\"Copying {source} to {key}\")      \n",
    "    new_state_dict[\"decoder_d.\" + key] = torch.tensor(data)"
   ]
  },
  {
   "cell_type": "code",
   "execution_count": 20,
   "id": "a5c028ee",
   "metadata": {},
   "outputs": [
    {
     "name": "stdout",
     "output_type": "stream",
     "text": [
      "Copying /model_weights/lstm_3/lstm_3/ to cell_f.weight_ih\n",
      "Copying /model_weights/lstm_3/lstm_3/ to cell_f.weight_hh\n",
      "Copying /model_weights/lstm_3/lstm_3/ to cell_f.bias_ih\n",
      "Copying /model_weights/lstm_3/lstm_3/ to cell_f.bias_hh\n"
     ]
    }
   ],
   "source": [
    "# Copy pick lstm 0 (P)\n",
    "\n",
    "for key in model.pick_lstms[0].state_dict():\n",
    "    _, t = key.split(\".\")\n",
    "    \n",
    "    source = f\"/model_weights/lstm_3/lstm_3/\"\n",
    "\n",
    "    # Split bias 0.5/0.5\n",
    "    # https://stackoverflow.com/questions/55229636/import-lstm-from-tensorflow-to-pytorch-by-hand\n",
    "    if t.startswith(\"weight_ih\"):\n",
    "        data = tf_state_dict[source + \"kernel:0\"].T\n",
    "    elif t.startswith(\"weight_hh\"):\n",
    "        data = tf_state_dict[source + \"recurrent_kernel:0\"].T\n",
    "    else:\n",
    "        data = tf_state_dict[source + \"bias:0\"] * 0.5\n",
    "            \n",
    "    print(f\"Copying {source} to {key}\")  \n",
    "    out_key = \"pick_lstms.0.\" + key\n",
    "    new_state_dict[out_key] = torch.tensor(data)"
   ]
  },
  {
   "cell_type": "code",
   "execution_count": 21,
   "id": "9016f07d",
   "metadata": {},
   "outputs": [
    {
     "name": "stdout",
     "output_type": "stream",
     "text": [
      "Copying /model_weights/lstm_4/lstm_4/ to cell_f.weight_ih\n",
      "Copying /model_weights/lstm_4/lstm_4/ to cell_f.weight_hh\n",
      "Copying /model_weights/lstm_4/lstm_4/ to cell_f.bias_ih\n",
      "Copying /model_weights/lstm_4/lstm_4/ to cell_f.bias_hh\n"
     ]
    }
   ],
   "source": [
    "# Copy pick lstm 1 (S)\n",
    "\n",
    "for key in model.pick_lstms[1].state_dict():\n",
    "    _, t = key.split(\".\")\n",
    "    \n",
    "    source = f\"/model_weights/lstm_4/lstm_4/\"\n",
    "\n",
    "    # Split bias 0.5/0.5\n",
    "    # https://stackoverflow.com/questions/55229636/import-lstm-from-tensorflow-to-pytorch-by-hand\n",
    "    if t.startswith(\"weight_ih\"):\n",
    "        data = tf_state_dict[source + \"kernel:0\"].T\n",
    "    elif t.startswith(\"weight_hh\"):\n",
    "        data = tf_state_dict[source + \"recurrent_kernel:0\"].T\n",
    "    else:\n",
    "        data = tf_state_dict[source + \"bias:0\"] * 0.5\n",
    "    print(f\"Copying {source} to {key}\")          \n",
    "    out_key = \"pick_lstms.1.\" + key\n",
    "    new_state_dict[out_key] = torch.tensor(data)"
   ]
  },
  {
   "cell_type": "code",
   "execution_count": 22,
   "id": "64c0bd78",
   "metadata": {},
   "outputs": [
    {
     "name": "stdout",
     "output_type": "stream",
     "text": [
      "Copying /model_weights/attentionP/attentionP/attentionP_Add_Wx:0 to Wx\n",
      "Copying /model_weights/attentionP/attentionP/attentionP_Add_Wt:0 to Wt\n",
      "Copying /model_weights/attentionP/attentionP/attentionP_Add_bh:0 to bh\n",
      "Copying /model_weights/attentionP/attentionP/attentionP_Add_Wa:0 to Wa\n",
      "Copying /model_weights/attentionP/attentionP/attentionP_Add_ba:0 to ba\n"
     ]
    }
   ],
   "source": [
    "# Copy attention 0 (P)\n",
    "\n",
    "for key in model.pick_attentions[0].state_dict():\n",
    "    t = key\n",
    "        \n",
    "    source = f\"/model_weights/attentionP/attentionP/attentionP_Add_{t}:0\"\n",
    "    data = tf_state_dict[source]\n",
    "    print(f\"Copying {source} to {key}\")      \n",
    "    new_state_dict[\"pick_attentions.0.\" + key] = torch.tensor(data)"
   ]
  },
  {
   "cell_type": "code",
   "execution_count": 23,
   "id": "bc6bfe8e",
   "metadata": {},
   "outputs": [
    {
     "name": "stdout",
     "output_type": "stream",
     "text": [
      "Copying /model_weights/attentionS/attentionS/attentionS_Add_Wx:0 to Wx\n",
      "Copying /model_weights/attentionS/attentionS/attentionS_Add_Wt:0 to Wt\n",
      "Copying /model_weights/attentionS/attentionS/attentionS_Add_bh:0 to bh\n",
      "Copying /model_weights/attentionS/attentionS/attentionS_Add_Wa:0 to Wa\n",
      "Copying /model_weights/attentionS/attentionS/attentionS_Add_ba:0 to ba\n"
     ]
    }
   ],
   "source": [
    "# Copy attention 1 (S)\n",
    "\n",
    "for key in model.pick_attentions[1].state_dict():\n",
    "    t = key\n",
    "        \n",
    "    source = f\"/model_weights/attentionS/attentionS/attentionS_Add_{t}:0\"\n",
    "    data = tf_state_dict[source]\n",
    "    print(f\"Copying {source} to {key}\")      \n",
    "    new_state_dict[\"pick_attentions.1.\" + key] = torch.tensor(data)"
   ]
  },
  {
   "cell_type": "code",
   "execution_count": 25,
   "id": "9f7e1809",
   "metadata": {},
   "outputs": [
    {
     "name": "stdout",
     "output_type": "stream",
     "text": [
      "Copying /model_weights/conv1d_31/conv1d_31/ to convs.0.weight\n",
      "Copying /model_weights/conv1d_31/conv1d_31/ to convs.0.bias\n",
      "Copying /model_weights/conv1d_32/conv1d_32/ to convs.1.weight\n",
      "Copying /model_weights/conv1d_32/conv1d_32/ to convs.1.bias\n",
      "Copying /model_weights/conv1d_33/conv1d_33/ to convs.2.weight\n",
      "Copying /model_weights/conv1d_33/conv1d_33/ to convs.2.bias\n",
      "Copying /model_weights/conv1d_34/conv1d_34/ to convs.3.weight\n",
      "Copying /model_weights/conv1d_34/conv1d_34/ to convs.3.bias\n",
      "Copying /model_weights/conv1d_35/conv1d_35/ to convs.4.weight\n",
      "Copying /model_weights/conv1d_35/conv1d_35/ to convs.4.bias\n",
      "Copying /model_weights/conv1d_36/conv1d_36/ to convs.5.weight\n",
      "Copying /model_weights/conv1d_36/conv1d_36/ to convs.5.bias\n",
      "Copying /model_weights/conv1d_37/conv1d_37/ to convs.6.weight\n",
      "Copying /model_weights/conv1d_37/conv1d_37/ to convs.6.bias\n"
     ]
    }
   ],
   "source": [
    "# Copy decoder 0 (P)\n",
    "\n",
    "for key in model.pick_decoders[0].state_dict():\n",
    "    _, conv_id, t = key.split('.')\n",
    "    \n",
    "    conv_id = int(conv_id) + 31\n",
    "    \n",
    "    source = f\"/model_weights/conv1d_{conv_id}/conv1d_{conv_id}/\"\n",
    "    if t == \"weight\":\n",
    "        data = np.transpose(tf_state_dict[source + \"kernel:0\"], (2, 1, 0))\n",
    "    elif t == \"bias\":\n",
    "        data = tf_state_dict[source + \"bias:0\"]\n",
    "    print(f\"Copying {source} to {key}\")      \n",
    "    new_state_dict[\"pick_decoders.0.\" + key] = torch.tensor(data)"
   ]
  },
  {
   "cell_type": "code",
   "execution_count": 26,
   "id": "f53eefa0",
   "metadata": {},
   "outputs": [
    {
     "name": "stdout",
     "output_type": "stream",
     "text": [
      "Copying /model_weights/conv1d_38/conv1d_38/ to convs.0.weight\n",
      "Copying /model_weights/conv1d_38/conv1d_38/ to convs.0.bias\n",
      "Copying /model_weights/conv1d_39/conv1d_39/ to convs.1.weight\n",
      "Copying /model_weights/conv1d_39/conv1d_39/ to convs.1.bias\n",
      "Copying /model_weights/conv1d_40/conv1d_40/ to convs.2.weight\n",
      "Copying /model_weights/conv1d_40/conv1d_40/ to convs.2.bias\n",
      "Copying /model_weights/conv1d_41/conv1d_41/ to convs.3.weight\n",
      "Copying /model_weights/conv1d_41/conv1d_41/ to convs.3.bias\n",
      "Copying /model_weights/conv1d_42/conv1d_42/ to convs.4.weight\n",
      "Copying /model_weights/conv1d_42/conv1d_42/ to convs.4.bias\n",
      "Copying /model_weights/conv1d_43/conv1d_43/ to convs.5.weight\n",
      "Copying /model_weights/conv1d_43/conv1d_43/ to convs.5.bias\n",
      "Copying /model_weights/conv1d_44/conv1d_44/ to convs.6.weight\n",
      "Copying /model_weights/conv1d_44/conv1d_44/ to convs.6.bias\n"
     ]
    }
   ],
   "source": [
    "# Copy decoder 1 (S)\n",
    "\n",
    "for key in model.pick_decoders[1].state_dict():\n",
    "    _, conv_id, t = key.split('.')\n",
    "    \n",
    "    conv_id = int(conv_id) + 38  # Note this was 39 previously\n",
    "    \n",
    "    source = f\"/model_weights/conv1d_{conv_id}/conv1d_{conv_id}/\"\n",
    "    if t == \"weight\":\n",
    "        data = np.transpose(tf_state_dict[source + \"kernel:0\"], (2, 1, 0))\n",
    "    elif t == \"bias\":\n",
    "        data = tf_state_dict[source + \"bias:0\"]\n",
    "    print(f\"Copying {source} to {key}\")      \n",
    "    new_state_dict[\"pick_decoders.1.\" + key] = torch.tensor(data)"
   ]
  },
  {
   "cell_type": "code",
   "execution_count": 27,
   "id": "0ad94490",
   "metadata": {},
   "outputs": [],
   "source": [
    "# Copy final layers\n",
    "data = np.transpose(tf_state_dict[\"/model_weights/picker_P/picker_P/kernel:0\"], (2, 1, 0))\n",
    "new_state_dict[\"pick_convs.0.weight\"] = torch.tensor(data)\n",
    "\n",
    "data = tf_state_dict[\"/model_weights/picker_P/picker_P/bias:0\"]\n",
    "new_state_dict[\"pick_convs.0.bias\"] = torch.tensor(data)\n",
    "\n",
    "data = np.transpose(tf_state_dict[\"/model_weights/picker_S/picker_S/kernel:0\"], (2, 1, 0))\n",
    "new_state_dict[\"pick_convs.1.weight\"] = torch.tensor(data)\n",
    "\n",
    "data = tf_state_dict[\"/model_weights/picker_S/picker_S/bias:0\"]\n",
    "new_state_dict[\"pick_convs.1.bias\"] = torch.tensor(data)\n",
    "\n",
    "data = np.transpose(tf_state_dict[\"/model_weights/detector/detector/kernel:0\"], (2, 1, 0))\n",
    "new_state_dict[\"conv_d.weight\"] = torch.tensor(data)\n",
    "\n",
    "data = tf_state_dict[\"/model_weights/detector/detector/bias:0\"]\n",
    "new_state_dict[\"conv_d.bias\"] = torch.tensor(data)"
   ]
  },
  {
   "cell_type": "code",
   "execution_count": 28,
   "id": "3dd728fd",
   "metadata": {},
   "outputs": [
    {
     "data": {
      "text/plain": [
       "234"
      ]
     },
     "execution_count": 28,
     "metadata": {},
     "output_type": "execute_result"
    }
   ],
   "source": [
    "len(new_state_dict)"
   ]
  },
  {
   "cell_type": "code",
   "execution_count": 29,
   "id": "9305e858",
   "metadata": {},
   "outputs": [
    {
     "data": {
      "text/plain": [
       "234"
      ]
     },
     "execution_count": 29,
     "metadata": {},
     "output_type": "execute_result"
    }
   ],
   "source": [
    "len(pt_state_dict)"
   ]
  },
  {
   "cell_type": "code",
   "execution_count": 30,
   "id": "4bc2cd69",
   "metadata": {
    "scrolled": true
   },
   "outputs": [],
   "source": [
    "for key in new_state_dict.keys():\n",
    "    if pt_state_dict[key].shape != new_state_dict[key].shape:\n",
    "        print(key, pt_state_dict[key].shape, new_state_dict[key].shape)"
   ]
  },
  {
   "cell_type": "code",
   "execution_count": 31,
   "id": "ff872aa5",
   "metadata": {},
   "outputs": [
    {
     "data": {
      "text/plain": [
       "<All keys matched successfully>"
      ]
     },
     "execution_count": 31,
     "metadata": {},
     "output_type": "execute_result"
    }
   ],
   "source": [
    "model.load_state_dict(new_state_dict)"
   ]
  },
  {
   "cell_type": "code",
   "execution_count": 32,
   "id": "187893a7",
   "metadata": {},
   "outputs": [],
   "source": [
    "torch.save(model.state_dict(), \"original2022.pt\")"
   ]
  },
  {
   "cell_type": "code",
   "execution_count": 33,
   "id": "6f11662a",
   "metadata": {
    "scrolled": false
   },
   "outputs": [
    {
     "data": {
      "text/plain": [
       "EQTransformer(\n",
       "  (encoder): Encoder(\n",
       "    (convs): ModuleList(\n",
       "      (0): Conv1d(3, 8, kernel_size=(11,), stride=(1,), padding=(5,))\n",
       "      (1): Conv1d(8, 16, kernel_size=(9,), stride=(1,), padding=(4,))\n",
       "      (2): Conv1d(16, 16, kernel_size=(7,), stride=(1,), padding=(3,))\n",
       "      (3): Conv1d(16, 32, kernel_size=(7,), stride=(1,), padding=(3,))\n",
       "      (4): Conv1d(32, 32, kernel_size=(5,), stride=(1,), padding=(2,))\n",
       "      (5): Conv1d(32, 64, kernel_size=(5,), stride=(1,), padding=(2,))\n",
       "      (6): Conv1d(64, 64, kernel_size=(3,), stride=(1,), padding=(1,))\n",
       "    )\n",
       "    (pools): ModuleList(\n",
       "      (0): MaxPool1d(kernel_size=2, stride=2, padding=0, dilation=1, ceil_mode=False)\n",
       "      (1): MaxPool1d(kernel_size=2, stride=2, padding=0, dilation=1, ceil_mode=False)\n",
       "      (2): MaxPool1d(kernel_size=2, stride=2, padding=0, dilation=1, ceil_mode=False)\n",
       "      (3): MaxPool1d(kernel_size=2, stride=2, padding=0, dilation=1, ceil_mode=False)\n",
       "      (4): MaxPool1d(kernel_size=2, stride=2, padding=0, dilation=1, ceil_mode=False)\n",
       "      (5): MaxPool1d(kernel_size=2, stride=2, padding=0, dilation=1, ceil_mode=False)\n",
       "      (6): MaxPool1d(kernel_size=2, stride=2, padding=0, dilation=1, ceil_mode=False)\n",
       "    )\n",
       "  )\n",
       "  (res_cnn_stack): ResCNNStack(\n",
       "    (members): ModuleList(\n",
       "      (0): ResCNNBlock(\n",
       "        (dropout): SpatialDropout1d(\n",
       "          (dropout): Dropout2d(p=0.1, inplace=False)\n",
       "        )\n",
       "        (norm1): BatchNorm1d(64, eps=0.001, momentum=0.1, affine=True, track_running_stats=True)\n",
       "        (conv1): Conv1d(64, 64, kernel_size=(3,), stride=(1,), padding=(1,))\n",
       "        (norm2): BatchNorm1d(64, eps=0.001, momentum=0.1, affine=True, track_running_stats=True)\n",
       "        (conv2): Conv1d(64, 64, kernel_size=(3,), stride=(1,), padding=(1,))\n",
       "      )\n",
       "      (1): ResCNNBlock(\n",
       "        (dropout): SpatialDropout1d(\n",
       "          (dropout): Dropout2d(p=0.1, inplace=False)\n",
       "        )\n",
       "        (norm1): BatchNorm1d(64, eps=0.001, momentum=0.1, affine=True, track_running_stats=True)\n",
       "        (conv1): Conv1d(64, 64, kernel_size=(3,), stride=(1,), padding=(1,))\n",
       "        (norm2): BatchNorm1d(64, eps=0.001, momentum=0.1, affine=True, track_running_stats=True)\n",
       "        (conv2): Conv1d(64, 64, kernel_size=(3,), stride=(1,), padding=(1,))\n",
       "      )\n",
       "      (2): ResCNNBlock(\n",
       "        (dropout): SpatialDropout1d(\n",
       "          (dropout): Dropout2d(p=0.1, inplace=False)\n",
       "        )\n",
       "        (norm1): BatchNorm1d(64, eps=0.001, momentum=0.1, affine=True, track_running_stats=True)\n",
       "        (conv1): Conv1d(64, 64, kernel_size=(3,), stride=(1,), padding=(1,))\n",
       "        (norm2): BatchNorm1d(64, eps=0.001, momentum=0.1, affine=True, track_running_stats=True)\n",
       "        (conv2): Conv1d(64, 64, kernel_size=(3,), stride=(1,), padding=(1,))\n",
       "      )\n",
       "      (3): ResCNNBlock(\n",
       "        (dropout): SpatialDropout1d(\n",
       "          (dropout): Dropout2d(p=0.1, inplace=False)\n",
       "        )\n",
       "        (norm1): BatchNorm1d(64, eps=0.001, momentum=0.1, affine=True, track_running_stats=True)\n",
       "        (conv1): Conv1d(64, 64, kernel_size=(3,), stride=(1,), padding=(1,))\n",
       "        (norm2): BatchNorm1d(64, eps=0.001, momentum=0.1, affine=True, track_running_stats=True)\n",
       "        (conv2): Conv1d(64, 64, kernel_size=(3,), stride=(1,), padding=(1,))\n",
       "      )\n",
       "      (4): ResCNNBlock(\n",
       "        (dropout): SpatialDropout1d(\n",
       "          (dropout): Dropout2d(p=0.1, inplace=False)\n",
       "        )\n",
       "        (norm1): BatchNorm1d(64, eps=0.001, momentum=0.1, affine=True, track_running_stats=True)\n",
       "        (conv1): Conv1d(64, 64, kernel_size=(2,), stride=(1,))\n",
       "        (norm2): BatchNorm1d(64, eps=0.001, momentum=0.1, affine=True, track_running_stats=True)\n",
       "        (conv2): Conv1d(64, 64, kernel_size=(2,), stride=(1,))\n",
       "      )\n",
       "      (5): ResCNNBlock(\n",
       "        (dropout): SpatialDropout1d(\n",
       "          (dropout): Dropout2d(p=0.1, inplace=False)\n",
       "        )\n",
       "        (norm1): BatchNorm1d(64, eps=0.001, momentum=0.1, affine=True, track_running_stats=True)\n",
       "        (conv1): Conv1d(64, 64, kernel_size=(3,), stride=(1,), padding=(1,))\n",
       "        (norm2): BatchNorm1d(64, eps=0.001, momentum=0.1, affine=True, track_running_stats=True)\n",
       "        (conv2): Conv1d(64, 64, kernel_size=(3,), stride=(1,), padding=(1,))\n",
       "      )\n",
       "      (6): ResCNNBlock(\n",
       "        (dropout): SpatialDropout1d(\n",
       "          (dropout): Dropout2d(p=0.1, inplace=False)\n",
       "        )\n",
       "        (norm1): BatchNorm1d(64, eps=0.001, momentum=0.1, affine=True, track_running_stats=True)\n",
       "        (conv1): Conv1d(64, 64, kernel_size=(2,), stride=(1,))\n",
       "        (norm2): BatchNorm1d(64, eps=0.001, momentum=0.1, affine=True, track_running_stats=True)\n",
       "        (conv2): Conv1d(64, 64, kernel_size=(2,), stride=(1,))\n",
       "      )\n",
       "    )\n",
       "  )\n",
       "  (bi_lstm_stack): BiLSTMStack(\n",
       "    (members): ModuleList(\n",
       "      (0): BiLSTMBlock(\n",
       "        (lstm): CustomLSTM(\n",
       "          (cell_f): ActivationLSTMCell()\n",
       "          (cell_b): ActivationLSTMCell()\n",
       "        )\n",
       "        (dropout): Dropout(p=0.1, inplace=False)\n",
       "        (conv): Conv1d(32, 16, kernel_size=(1,), stride=(1,))\n",
       "        (norm): BatchNorm1d(16, eps=0.001, momentum=0.1, affine=True, track_running_stats=True)\n",
       "      )\n",
       "      (1): BiLSTMBlock(\n",
       "        (lstm): CustomLSTM(\n",
       "          (cell_f): ActivationLSTMCell()\n",
       "          (cell_b): ActivationLSTMCell()\n",
       "        )\n",
       "        (dropout): Dropout(p=0.1, inplace=False)\n",
       "        (conv): Conv1d(32, 16, kernel_size=(1,), stride=(1,))\n",
       "        (norm): BatchNorm1d(16, eps=0.001, momentum=0.1, affine=True, track_running_stats=True)\n",
       "      )\n",
       "    )\n",
       "  )\n",
       "  (transformer_d0): Transformer(\n",
       "    (attention): SeqSelfAttention()\n",
       "    (norm1): LayerNormalization()\n",
       "    (ff): FeedForward(\n",
       "      (lin1): Linear(in_features=16, out_features=128, bias=True)\n",
       "      (lin2): Linear(in_features=128, out_features=16, bias=True)\n",
       "      (dropout): Dropout(p=0.1, inplace=False)\n",
       "    )\n",
       "    (norm2): LayerNormalization()\n",
       "  )\n",
       "  (transformer_d): Transformer(\n",
       "    (attention): SeqSelfAttention()\n",
       "    (norm1): LayerNormalization()\n",
       "    (ff): FeedForward(\n",
       "      (lin1): Linear(in_features=16, out_features=128, bias=True)\n",
       "      (lin2): Linear(in_features=128, out_features=16, bias=True)\n",
       "      (dropout): Dropout(p=0.1, inplace=False)\n",
       "    )\n",
       "    (norm2): LayerNormalization()\n",
       "  )\n",
       "  (decoder_d): Decoder(\n",
       "    (upsample): Upsample(scale_factor=2.0, mode=nearest)\n",
       "    (convs): ModuleList(\n",
       "      (0): Conv1d(16, 64, kernel_size=(3,), stride=(1,), padding=(1,))\n",
       "      (1): Conv1d(64, 64, kernel_size=(5,), stride=(1,), padding=(2,))\n",
       "      (2): Conv1d(64, 32, kernel_size=(5,), stride=(1,), padding=(2,))\n",
       "      (3): Conv1d(32, 32, kernel_size=(7,), stride=(1,), padding=(3,))\n",
       "      (4): Conv1d(32, 16, kernel_size=(7,), stride=(1,), padding=(3,))\n",
       "      (5): Conv1d(16, 16, kernel_size=(9,), stride=(1,), padding=(4,))\n",
       "      (6): Conv1d(16, 8, kernel_size=(11,), stride=(1,), padding=(5,))\n",
       "    )\n",
       "  )\n",
       "  (conv_d): Conv1d(8, 1, kernel_size=(11,), stride=(1,), padding=(5,))\n",
       "  (dropout): Dropout(p=0.1, inplace=False)\n",
       "  (pick_lstms): ModuleList(\n",
       "    (0): CustomLSTM(\n",
       "      (cell_f): ActivationLSTMCell()\n",
       "    )\n",
       "    (1): CustomLSTM(\n",
       "      (cell_f): ActivationLSTMCell()\n",
       "    )\n",
       "  )\n",
       "  (pick_attentions): ModuleList(\n",
       "    (0): SeqSelfAttention()\n",
       "    (1): SeqSelfAttention()\n",
       "  )\n",
       "  (pick_decoders): ModuleList(\n",
       "    (0): Decoder(\n",
       "      (upsample): Upsample(scale_factor=2.0, mode=nearest)\n",
       "      (convs): ModuleList(\n",
       "        (0): Conv1d(16, 64, kernel_size=(3,), stride=(1,), padding=(1,))\n",
       "        (1): Conv1d(64, 64, kernel_size=(5,), stride=(1,), padding=(2,))\n",
       "        (2): Conv1d(64, 32, kernel_size=(5,), stride=(1,), padding=(2,))\n",
       "        (3): Conv1d(32, 32, kernel_size=(7,), stride=(1,), padding=(3,))\n",
       "        (4): Conv1d(32, 16, kernel_size=(7,), stride=(1,), padding=(3,))\n",
       "        (5): Conv1d(16, 16, kernel_size=(9,), stride=(1,), padding=(4,))\n",
       "        (6): Conv1d(16, 8, kernel_size=(11,), stride=(1,), padding=(5,))\n",
       "      )\n",
       "    )\n",
       "    (1): Decoder(\n",
       "      (upsample): Upsample(scale_factor=2.0, mode=nearest)\n",
       "      (convs): ModuleList(\n",
       "        (0): Conv1d(16, 64, kernel_size=(3,), stride=(1,), padding=(1,))\n",
       "        (1): Conv1d(64, 64, kernel_size=(5,), stride=(1,), padding=(2,))\n",
       "        (2): Conv1d(64, 32, kernel_size=(5,), stride=(1,), padding=(2,))\n",
       "        (3): Conv1d(32, 32, kernel_size=(7,), stride=(1,), padding=(3,))\n",
       "        (4): Conv1d(32, 16, kernel_size=(7,), stride=(1,), padding=(3,))\n",
       "        (5): Conv1d(16, 16, kernel_size=(9,), stride=(1,), padding=(4,))\n",
       "        (6): Conv1d(16, 8, kernel_size=(11,), stride=(1,), padding=(5,))\n",
       "      )\n",
       "    )\n",
       "  )\n",
       "  (pick_convs): ModuleList(\n",
       "    (0): Conv1d(8, 1, kernel_size=(11,), stride=(1,), padding=(5,))\n",
       "    (1): Conv1d(8, 1, kernel_size=(11,), stride=(1,), padding=(5,))\n",
       "  )\n",
       ")"
      ]
     },
     "execution_count": 33,
     "metadata": {},
     "output_type": "execute_result"
    }
   ],
   "source": [
    "model"
   ]
  },
  {
   "cell_type": "code",
   "execution_count": 34,
   "id": "bff9e126",
   "metadata": {},
   "outputs": [],
   "source": [
    "import seisbench.data"
   ]
  },
  {
   "cell_type": "code",
   "execution_count": 35,
   "id": "1ffb5284",
   "metadata": {},
   "outputs": [],
   "source": [
    "dummy = seisbench.data.DummyDataset(component_order='ENZ')"
   ]
  },
  {
   "cell_type": "code",
   "execution_count": 36,
   "id": "780e1924",
   "metadata": {},
   "outputs": [],
   "source": [
    "wv = dummy.get_waveforms([np.random.randint(100)], sampling_rate=100)\n",
    "\n",
    "wv -= np.mean(wv, axis=-1, keepdims=True)\n",
    "wv /= np.amax(wv)"
   ]
  },
  {
   "cell_type": "code",
   "execution_count": 37,
   "id": "0253b75d",
   "metadata": {},
   "outputs": [],
   "source": [
    "temp_data = NamedTemporaryFile()\n",
    "urllib.request.urlretrieve(\n",
    "    \"https://github.com/smousavi05/EQTransformer/raw/master/ModelsAndSampleData/100samples.hdf5\",\n",
    "    temp_data.name)\n",
    "\n",
    "with h5py.File(temp_data.name, \"r\") as f:\n",
    "    wv = f['data']['109C.TA_20060723155859_EV'][()]\n",
    "    \n",
    "wv -= np.mean(wv, axis=-1, keepdims=True)\n",
    "wv /= np.amax(wv)\n",
    "wv = wv.T.reshape(1, 3, 6000)"
   ]
  },
  {
   "cell_type": "code",
   "execution_count": 38,
   "id": "f891057a",
   "metadata": {},
   "outputs": [
    {
     "data": {
      "text/plain": [
       "<matplotlib.legend.Legend at 0x7f0e890d4850>"
      ]
     },
     "execution_count": 38,
     "metadata": {},
     "output_type": "execute_result"
    },
    {
     "data": {
      "image/png": "[encoded data removed]",
      "text/plain": [
       "<Figure size 1080x720 with 2 Axes>"
      ]
     },
     "metadata": {
      "needs_background": "light"
     },
     "output_type": "display_data"
    }
   ],
   "source": [
    "model.eval()\n",
    "with torch.no_grad():\n",
    "    det, p, s = model(torch.tensor(wv[:, [2, 1, 0]], dtype=torch.float32))\n",
    "    det = det.numpy()\n",
    "    p = p.numpy()\n",
    "    s = s.numpy()\n",
    "\n",
    "fig = plt.figure(figsize=(15, 10))\n",
    "ax, ax2 = fig.subplots(2, 1, sharex=True)\n",
    "\n",
    "ax.plot(wv[0, 0])\n",
    "ax.plot(wv[0, 1])\n",
    "ax.plot(wv[0, 2])\n",
    "ax2.plot(det[0], label=\"Detection\")\n",
    "ax2.plot(p[0], label=\"P\")\n",
    "ax2.plot(s[0], label=\"S\")\n",
    "# ax2.plot(p[0] / np.max(p[0, 100:-100]), label=\"P\")\n",
    "# ax2.plot(s[0] / np.max(s[0, 100:-100]), label=\"S\")\n",
    "ax2.set_ylim(-0.05, 1.05)\n",
    "ax2.legend()"
   ]
  },
  {
   "cell_type": "markdown",
   "id": "87f19c1b",
   "metadata": {},
   "source": [
    "# Run in an EQTransformer compatible env - results loaded"
   ]
  },
  {
   "cell_type": "markdown",
   "id": "dda7d431",
   "metadata": {},
   "source": [
    "```python\n",
    "import numpy as np\n",
    "import h5py\n",
    "import urllib\n",
    "import matplotlib.pyplot as plt\n",
    "\n",
    "from tempfile import NamedTemporaryFile\n",
    "\n",
    "from tensorflow.keras.models import load_model\n",
    "from tensorflow.keras.layers import Dropout, Lambda\n",
    "from tensorflow.keras.optimizers import Adam\n",
    "\n",
    "from EQTransformer.core.EqT_utils import SeqSelfAttention, FeedForward, f1, LayerNormalization\n",
    "\n",
    "class DropoutMock(Dropout):\n",
    "    def __init__(self, *arg, **kwargs):\n",
    "        super().__init__(rate=0)\n",
    "\n",
    "custom_objects = {'SeqSelfAttention': SeqSelfAttention, 'FeedForward': FeedForward, 'f1': f1, 'LayerNormalization': LayerNormalization, 'SpatialDropout1D': DropoutMock}\n",
    "tf_model = load_model('ModelsAndSampleData/EqT_original_model.h5', custom_objects=custom_objects)\n",
    "\n",
    "tf_model.compile(optimizer=Adam())\n",
    "```"
   ]
  },
  {
   "cell_type": "markdown",
   "id": "3c1b53ba",
   "metadata": {},
   "source": [
    "```python\n",
    "temp_data = NamedTemporaryFile()\n",
    "urllib.request.urlretrieve(\n",
    "    \"https://github.com/smousavi05/EQTransformer/raw/master/ModelsAndSampleData/100samples.hdf5\",\n",
    "    temp_data.name)\n",
    "\n",
    "with h5py.File(temp_data.name, \"r\") as f:\n",
    "    wv = f['data']['109C.TA_20060723155859_EV'][()]\n",
    "    \n",
    "wv -= np.mean(wv, axis=-1, keepdims=True)\n",
    "wv /= np.amax(wv)\n",
    "wv = wv.T.reshape(1, 3, 6000)\n",
    "\n",
    "\n",
    "tf_det, tf_p, tf_s = tf_model.predict(np.transpose(wv, (0, 2, 1)))\n",
    "\n",
    "np.save(\"../seisbench/contrib/model_conversion/eqt_original_det.npy\", tf_det)\n",
    "np.save(\"../seisbench/contrib/model_conversion/eqt_original_p.npy\", tf_p)\n",
    "np.save(\"../seisbench/contrib/model_conversion/eqt_original_s.npy\", tf_s)\n",
    "```"
   ]
  },
  {
   "cell_type": "code",
   "execution_count": 43,
   "id": "e731f83f",
   "metadata": {},
   "outputs": [
    {
     "data": {
      "text/plain": [
       "<matplotlib.legend.Legend at 0x7f0e8878ffa0>"
      ]
     },
     "execution_count": 43,
     "metadata": {},
     "output_type": "execute_result"
    },
    {
     "data": {
      "image/png": "[encoded data removed]",
      "text/plain": [
       "<Figure size 1080x720 with 2 Axes>"
      ]
     },
     "metadata": {
      "needs_background": "light"
     },
     "output_type": "display_data"
    }
   ],
   "source": [
    "tf_det = np.load(\"eqt_original_det.npy\")\n",
    "tf_p = np.load(\"eqt_original_p.npy\")\n",
    "tf_s = np.load(\"eqt_original_s.npy\")\n",
    "\n",
    "fig = plt.figure(figsize=(15, 10))\n",
    "ax, ax2 = fig.subplots(2, 1, sharex=True)\n",
    "\n",
    "ax.plot(wv[0, 0])\n",
    "ax.plot(wv[0, 1])\n",
    "ax.plot(wv[0, 2])\n",
    "ax2.plot(tf_det[0, :, 0], label=\"Detection\")\n",
    "ax2.plot(tf_p[0, :, 0], label=\"P\")\n",
    "ax2.plot(tf_s[0, :, 0], label=\"S\")\n",
    "ax2.set_ylim(-0.05, 1.05)\n",
    "ax2.legend()"
   ]
  },
  {
   "cell_type": "code",
   "execution_count": 40,
   "id": "8a9062e3",
   "metadata": {},
   "outputs": [
    {
     "data": {
      "text/plain": [
       "[<matplotlib.lines.Line2D at 0x7f0e886fe110>]"
      ]
     },
     "execution_count": 40,
     "metadata": {},
     "output_type": "execute_result"
    },
    {
     "data": {
      "image/png": "[encoded data removed]",
      "text/plain": [
       "<Figure size 432x288 with 1 Axes>"
      ]
     },
     "metadata": {
      "needs_background": "light"
     },
     "output_type": "display_data"
    }
   ],
   "source": [
    "plt.plot(tf_det[0, :, 0] - det[0, :])"
   ]
  },
  {
   "cell_type": "code",
   "execution_count": 39,
   "id": "dabc42d0",
   "metadata": {},
   "outputs": [
    {
     "data": {
      "text/plain": [
       "[<matplotlib.lines.Line2D at 0x7f06e03b0070>]"
      ]
     },
     "execution_count": 39,
     "metadata": {},
     "output_type": "execute_result"
    },
    {
     "data": {
      "image/png": "[encoded data removed]",
      "text/plain": [
       "<Figure size 432x288 with 1 Axes>"
      ]
     },
     "metadata": {
      "needs_background": "light"
     },
     "output_type": "display_data"
    }
   ],
   "source": [
    "plt.plot(tf_p[0, :, 0] - p[0, :])"
   ]
  },
  {
   "cell_type": "code",
   "execution_count": 40,
   "id": "d55cc014",
   "metadata": {},
   "outputs": [
    {
     "data": {
      "text/plain": [
       "[<matplotlib.lines.Line2D at 0x7f06e01f74c0>]"
      ]
     },
     "execution_count": 40,
     "metadata": {},
     "output_type": "execute_result"
    },
    {
     "data": {
      "image/png": "[encoded data removed]",
      "text/plain": [
       "<Figure size 432x288 with 1 Axes>"
      ]
     },
     "metadata": {
      "needs_background": "light"
     },
     "output_type": "display_data"
    }
   ],
   "source": [
    "plt.plot(tf_s[0, :, 0] - s[0, :])"
   ]
  }
 ],
 "metadata": {
  "kernelspec": {
   "display_name": "Python 3 (ipykernel)",
   "language": "python",
   "name": "python3"
  },
  "language_info": {
   "codemirror_mode": {
    "name": "ipython",
    "version": 3
   },
   "file_extension": ".py",
   "mimetype": "text/x-python",
   "name": "python",
   "nbconvert_exporter": "python",
   "pygments_lexer": "ipython3",
   "version": "3.10.4"
  }
 },
 "nbformat": 4,
 "nbformat_minor": 5
}
